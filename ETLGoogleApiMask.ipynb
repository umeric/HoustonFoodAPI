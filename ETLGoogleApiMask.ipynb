{
 "cells": [
  {
   "cell_type": "code",
   "execution_count": null,
   "metadata": {},
   "outputs": [],
   "source": [
    "#Packages/libary requests, pandas, googlemaps\n",
    "#ip address: XXXX\n",
    "# Replace YOUR_API_KEY with your actual API key\n",
    "#removing radius will pull all the restaruents"
   ]
  },
  {
   "cell_type": "code",
   "execution_count": 64,
   "metadata": {},
   "outputs": [],
   "source": [
    "#Connect to Azure DB\n",
    "#Think of this as \"From this librarby import these methods\"\n",
    "from azure.storage.blob import BlobServiceClient, BlobClient, ContainerClient\n",
    "import os\n"
   ]
  },
  {
   "cell_type": "code",
   "execution_count": 70,
   "metadata": {},
   "outputs": [],
   "source": [
    "#Extract the Places API data, Create Table, Convert to CSV to move to Azure\n",
    "import requests\n",
    "import pandas as pd\n",
    "\n",
    "latitude = 29.7604\n",
    "longitude = -95.3698\n",
    "api_key = \"XXXXX\"\n",
    "\n",
    "def fetch_places_data(url):\n",
    "    response = requests.get(url)\n",
    "    data = response.json()\n",
    "    places = data.get(\"results\", [])\n",
    "\n",
    "    results = []\n",
    "    for place in places:\n",
    "        place_id = place.get(\"place_id\")\n",
    "        \n",
    "        # Get place details using Place Details API\n",
    "        details_url = f\"https://maps.googleapis.com/maps/api/place/details/json?place_id={place_id}&\n",
    "        fields=name,business_status,formatted_address,formatted_phone_number,price_level,rating,reviews,user_ratings_total,website,opening_hours&key={api_key}\"\n",
    "        details_response = requests.get(details_url)\n",
    "        details_data = details_response.json()\n",
    "        \n",
    "        result = {\n",
    "            \"name\": details_data[\"result\"].get(\"name\"),\n",
    "            \"business_status\": details_data[\"result\"].get(\"business_status\"),\n",
    "            \"formatted_address\": details_data[\"result\"].get(\"formatted_address\"),\n",
    "            \"formatted_phone_number\": details_data[\"result\"].get(\"formatted_phone_number\"),\n",
    "            \"price_level\": details_data[\"result\"].get(\"price_level\"),\n",
    "            \"rating\": details_data[\"result\"].get(\"rating\"),\n",
    "            #\"reviews\": details_data[\"result\"].get(\"reviews\"),#\n",
    "            \"user_ratings_total\": details_data[\"result\"].get(\"user_ratings_total\"),\n",
    "            \"website\": details_data[\"result\"].get(\"website\"),\n",
    "            #\"opening_hours\": details_data[\"result\"].get(\"opening_hours\"),#\n",
    "        }\n",
    "        results.append(result)\n",
    "\n",
    "    next_page_token = data.get(\"next_page_token\")\n",
    "    return results, next_page_token\n",
    "\n",
    "url = f\"https://maps.googleapis.com/maps/api/place/nearbysearch/json?location={latitude},{longitude}&radius=20000&type=restaurant&key={api_key}\"\n",
    "\n",
    "# Fetch the first page of results\n",
    "results, next_page_token = fetch_places_data(url)\n",
    "\n",
    "# Fetch additional pages until all results are retrieved\n",
    "while next_page_token:\n",
    "    next_url = f\"{url}&pagetoken={next_page_token}\"\n",
    "    additional_results, next_page_token = fetch_places_data(next_url)\n",
    "    results.extend(additional_results)\n",
    "\n",
    "# Create a DataFrame from the list of results\n",
    "df = pd.DataFrame(results)\n"
   ]
  },
  {
   "cell_type": "code",
   "execution_count": 66,
   "metadata": {},
   "outputs": [
    {
     "name": "stdout",
     "output_type": "stream",
     "text": [
      "Number of records: 60\n"
     ]
    }
   ],
   "source": [
    "#Count number of records\n",
    "print(\"Number of records:\", len(df))"
   ]
  },
  {
   "cell_type": "code",
   "execution_count": 67,
   "metadata": {},
   "outputs": [],
   "source": [
    "#Created our csv to move to our Azure Storage account\n",
    "csv_data = df.to_csv(index=False)"
   ]
  },
  {
   "cell_type": "code",
   "execution_count": null,
   "metadata": {},
   "outputs": [],
   "source": [
    "# Your Azure Storage account connection string\n",
    "connection_string = \"DefaultEndpointsProtocol=https;\n",
    "AccountName=storageaccount;AccountKey=XXXX==;EndpointSuffix=core.windows.net\"\n",
    "\n",
    "# Your Blob container name\n",
    "container_name = \"storagename\"\n",
    "\n",
    "# Your Blob file name (optional)\n",
    "blob_name = \"blob1.csv\"\n",
    "\n",
    "# Create a BlobServiceClient\n",
    "blob_service_client = BlobServiceClient.from_connection_string(connection_string)\n",
    "\n",
    "# Create a new BlobClient to upload the data\n",
    "blob_client = blob_service_client.get_blob_client(container=container_name, blob=blob_name)\n",
    "\n",
    "# Upload the CSV data to the Blob\n",
    "blob_client.upload_blob(csv_data)\n"
   ]
  }
 ],
 "metadata": {
  "kernelspec": {
   "display_name": "Python 3",
   "language": "python",
   "name": "python3"
  },
  "language_info": {
   "codemirror_mode": {
    "name": "ipython",
    "version": 3
   },
   "file_extension": ".py",
   "mimetype": "text/x-python",
   "name": "python",
   "nbconvert_exporter": "python",
   "pygments_lexer": "ipython3",
   "version": "3.11.3"
  },
  "orig_nbformat": 4
 },
 "nbformat": 4,
 "nbformat_minor": 2
}
